{
  "cells": [
    {
      "cell_type": "code",
      "execution_count": null,
      "metadata": {
        "colab": {
          "base_uri": "https://localhost:8080/"
        },
        "id": "4PL1kBw_ZzzB",
        "outputId": "6febc45d-c71a-41dd-8717-4a23a5923e46"
      },
      "outputs": [],
      "source": [
        "# Install disvoice package using pip3 if not already installed\n",
        "!pip3 install disvoice"
      ]
    },
    {
      "cell_type": "code",
      "execution_count": null,
      "metadata": {
        "colab": {
          "base_uri": "https://localhost:8080/"
        },
        "id": "R7VqRAguZ5TU",
        "outputId": "66240861-b2cf-4b33-b8c6-0ec36303bc5c"
      },
      "outputs": [],
      "source": [
        "# Clone the Kaldi repository from upstream (official Kaldi GitHub repository)\n",
        "!git clone https://github.com/kaldi-asr/kaldi.git kaldi --origin upstream"
      ]
    },
    {
      "cell_type": "code",
      "execution_count": null,
      "metadata": {
        "colab": {
          "base_uri": "https://localhost:8080/"
        },
        "id": "rsOR3AOUaIg4",
        "outputId": "cbb3ded9-8c35-40a7-b125-15d270589bf3"
      },
      "outputs": [],
      "source": [
        "# Importing necessary libraries and modules\n",
        "import warnings   # To manage warnings during runtime\n",
        "import os         # For operating system related functions\n",
        "import pandas as pd  # For data manipulation and analysis\n",
        "import numpy as np   # For numerical operations\n",
        "\n",
        "# Importing modules from disvoice package for voice analysis\n",
        "from disvoice.phonation import Phonation      # For phonation analysis\n",
        "from disvoice.prosody import Prosody          # For prosody analysis\n",
        "from disvoice.replearning import RepLearning  # For representation learning\n",
        "from disvoice.glottal import Glottal          # For glottal analysis\n",
        "from disvoice.phonological import Phonological  # For phonological analysis\n"
      ]
    },
    {
      "cell_type": "code",
      "execution_count": null,
      "metadata": {
        "id": "AsnsA_XrQZi2"
      },
      "outputs": [],
      "source": [
        "# Define main folder and split records paths for heart failure voice analysis\n",
        "mainFolderPath = \"Heart Failure Voice Analysis/\"\n",
        "splitRecordsPath = mainFolderPath + \"HeartFailure/\" + \"Split Records/\"\n",
        "\n",
        "# List all audio files in the split records directory\n",
        "audioFilesNameList = os.listdir(splitRecordsPath)\n"
      ]
    },
    {
      "cell_type": "code",
      "execution_count": null,
      "metadata": {
        "id": "-PUP_mIBPHIi"
      },
      "outputs": [],
      "source": [
        "# Extract unique patient names from audio file names\n",
        "audioFilesPatientNameSet = {name.split(\"_\")[0] for name in audioFilesNameList}\n",
        "audioFilesPatientNameList = list(audioFilesPatientNameSet)"
      ]
    },
    {
      "cell_type": "code",
      "execution_count": null,
      "metadata": {
        "colab": {
          "base_uri": "https://localhost:8080/"
        },
        "id": "3vlKSovCm_5V",
        "outputId": "63240d33-3f58-477e-85c4-ae7f1602350a"
      },
      "outputs": [],
      "source": [
        "# Initialize an empty DataFrame to store all features\n",
        "featuresdf = pd.DataFrame()\n",
        "\n",
        "for patientName in audioFilesPatientNameSet:\n",
        "  voiceSplitsforPatient = [section for section in audioFilesNameList if section.startswith(patientName)]\n",
        "  features = pd.DataFrame()\n",
        "  for audioSection in voiceSplitsforPatient:\n",
        "\n",
        "    sectionName = audioSection.split(\"_\")[1]\n",
        "    fileAudioPath= splitRecordsPath + audioSection\n",
        "    sectionOrderName = sectionName.split(\".\")[0]\n",
        "\n",
        "\n",
        "    #Extracting prosody and phonation features from section 1 of recorded speech, -> Six sentences specifically crafted based on different phonetic contexts.\n",
        "    if (sectionOrderName == \"Section1\"):\n",
        "      prosody=Prosody()\n",
        "      features2=prosody.extract_features_file(fileAudioPath, static = True, plots=False, fmt=\"dataframe\")\n",
        "      prefix = f\"{sectionName}/prosody/\"\n",
        "      features2 = features2.add_prefix(prefix)\n",
        "      features = pd.concat([features, features2], axis = 1)\n",
        "\n",
        "      phonation = Phonation()\n",
        "      features1 = phonation.extract_features_file(fileAudioPath, static = True, plots=False, fmt=\"dataframe\")\n",
        "      prefix = f\"{sectionName}/phonation/\"\n",
        "      features1 = features1.add_prefix(prefix)\n",
        "      features = pd.concat([features, features1], axis = 1)\n",
        "\n",
        "\n",
        "    #Extracting prosody, phonation and glottal features from section 2 of recorded speech, -> Sustained vowel \"a\" for 5 seconds\n",
        "    elif (sectionOrderName == \"Section2\"):\n",
        "      prosody=Prosody()\n",
        "      features2=prosody.extract_features_file(fileAudioPath, static = True, plots=False, fmt=\"dataframe\")\n",
        "      prefix = f\"{sectionName}/prosody/\"\n",
        "      features2 = features2.add_prefix(prefix)\n",
        "      features = pd.concat([features, features2], axis = 1)\n",
        "\n",
        "      phonation = Phonation()\n",
        "      features1 = phonation.extract_features_file(fileAudioPath, static = True, plots=False, fmt=\"dataframe\")\n",
        "      prefix = f\"{sectionName}/phonation/\"\n",
        "      features1 = features1.add_prefix(prefix)\n",
        "      features = pd.concat([features, features1], axis = 1)\n",
        "\n",
        "      glottal=Glottal()\n",
        "      features4 = glottal.extract_features_file(fileAudioPath, static = True, plots=False, fmt=\"dataframe\")\n",
        "      prefix = f\"{sectionName}/glottal/\"\n",
        "      features4 = features4.add_prefix(prefix)\n",
        "      features = pd.concat([features, features4], axis = 1)\n",
        "\n",
        "\n",
        "    #Extracting prosody, phonation and glottal features from section 3 of recorded speech, -> Sustained vowel \"i\" for 5 seconds\n",
        "    elif (sectionOrderName == \"Section3\"):\n",
        "      prosody=Prosody()\n",
        "      features2=prosody.extract_features_file(fileAudioPath, static = True, plots=False, fmt=\"dataframe\")\n",
        "      prefix = f\"{sectionName}/prosody/\"\n",
        "      features2 = features2.add_prefix(prefix)\n",
        "      features = pd.concat([features, features2], axis = 1)\n",
        "\n",
        "      phonation = Phonation()\n",
        "      features1 = phonation.extract_features_file(fileAudioPath, static = True, plots=False, fmt=\"dataframe\")\n",
        "      prefix = f\"{sectionName}/phonation/\"\n",
        "      features1 = features1.add_prefix(prefix)\n",
        "      features = pd.concat([features, features1], axis = 1)\n",
        "\n",
        "      glottal=Glottal()\n",
        "      features4 = glottal.extract_features_file(fileAudioPath, static = True, plots=False, fmt=\"dataframe\")\n",
        "      prefix = f\"{sectionName}/glottal/\"\n",
        "      features4 = features4.add_prefix(prefix)\n",
        "      features = pd.concat([features, features4], axis = 1)\n",
        "\n",
        "\n",
        "    #Extracting prosody and phonation features from section 4 of recorded speech, -> Conversational speech, including responses to at least two of three daily questions\n",
        "    elif (sectionOrderName == \"Section4\"):\n",
        "      phonation = Phonation()\n",
        "      features1 = phonation.extract_features_file(fileAudioPath, static = True, plots=False, fmt=\"dataframe\")\n",
        "      prefix = f\"{sectionName}/phonation/\"\n",
        "      features1 = features1.add_prefix(prefix)\n",
        "      features = pd.concat([features, features1], axis = 1)\n",
        "\n",
        "\n",
        "    else:\n",
        "      print(\"Section name not found!\")\n",
        "\n",
        "  features[\"Patient Name\"] = patientName\n",
        "  features = features.reset_index(drop=True)\n",
        "  featuresdf = pd.concat([featuresdf, features], axis = 0)\n",
        "  featuresdf = featuresdf.reset_index(drop=True)\n",
        "\n",
        "featuresdf.to_csv(mainFolderPath + \"staticFeaturesForTheNewPatients.csv\", index=False)"
      ]
    }
  ],
  "metadata": {
    "colab": {
      "provenance": []
    },
    "kernelspec": {
      "display_name": "Python 3",
      "name": "python3"
    },
    "language_info": {
      "name": "python"
    }
  },
  "nbformat": 4,
  "nbformat_minor": 0
}
